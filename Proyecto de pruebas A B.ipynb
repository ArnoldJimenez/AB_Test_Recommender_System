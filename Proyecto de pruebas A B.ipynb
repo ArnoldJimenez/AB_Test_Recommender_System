{
 "cells": [
  {
   "cell_type": "markdown",
   "metadata": {},
   "source": [
    "¡Hola, Arnold!\n",
    "\n",
    "Mi nombre es Tonatiuh Cruz. Me complace revisar tu proyecto hoy.\n",
    "\n",
    "Al identificar cualquier error inicialmente, simplemente los destacaré. Te animo a localizar y abordar los problemas de forma independiente como parte de tu preparación para un rol como data-analyst. En un entorno profesional, tu líder de equipo seguiría un enfoque similar. Si encuentras la tarea desafiante, proporcionaré una pista más específica en la próxima iteración.\n",
    "\n",
    "Encontrarás mis comentarios a continuación - **por favor no los muevas, modifiques o elimines**.\n",
    "\n",
    "Puedes encontrar mis comentarios en cajas verdes, amarillas o rojas como esta:\n",
    "\n",
    "<div class=\"alert alert-block alert-success\">\n",
    "<b>Comentario del revisor</b> <a class=\"tocSkip\"></a>\n",
    "\n",
    "Éxito. Todo está hecho correctamente.\n",
    "</div>\n",
    "\n",
    "<div class=\"alert alert-block alert-warning\">\n",
    "<b>Comentario del revisor</b> <a class=\"tocSkip\"></a>\n",
    "\n",
    "Observaciones. Algunas recomendaciones.\n",
    "</div>\n",
    "\n",
    "<div class=\"alert alert-block alert-danger\">\n",
    "<b>Comentario del revisor</b> <a class=\"tocSkip\"></a>\n",
    "\n",
    "Necesita corrección. El bloque requiere algunas correcciones. El trabajo no puede ser aceptado con comentarios en rojo.\n",
    "</div>\n",
    "\n",
    "Puedes responderme utilizando esto:\n",
    "\n",
    "<div class=\"alert alert-block alert-info\">\n",
    "<b>Respuesta del estudiante.</b> <a class=\"tocSkip\"></a>\n",
    "</div>"
   ]
  },
  {
   "cell_type": "markdown",
   "metadata": {},
   "source": [
    "<div class=\"alert alert-block alert-success\">\n",
    "<b>Resumen de la revisión 1</b> <a class=\"tocSkip\"></a>\n",
    "\n",
    "Hola Arnold! Has hecho un excelente trabajo al realizar con el desarrollo del proyecto, realizas un tratamiento inicial a los datos, el filtro de estos y las pruebas indicadas. Solamente te dejo algunos comentarios para terminar de complementar el análisis\n",
    "\n",
    "Sigue con el excelente trabajo!\n",
    "</div>"
   ]
  },
  {
   "cell_type": "markdown",
   "metadata": {},
   "source": [
    "Objetivos del estudio\n",
    "\n",
    "Verificar la validez de la prueba A/B\n",
    "\n",
    "Confirmar que la segmentación y asignación de usuarios a los grupos A y B fue correcta.\n",
    "\n",
    "Asegurar que no haya sesgos (ej. usuarios en ambos grupos, fechas fuera del rango, regiones incorrectas).\n",
    "\n",
    "Analizar la conversión en el embudo\n",
    "\n",
    "Medir la conversión en las etapas:\n",
    "product_page → product_cart → purchase.\n",
    "\n",
    "Comparar los resultados entre el grupo A (control) y el grupo B (nuevo embudo con recomendaciones).\n",
    "\n",
    "Evaluar el impacto del cambio\n",
    "\n",
    "Determinar si el nuevo sistema de recomendaciones produce el aumento esperado de al menos 10% en cada etapa del embudo dentro de los 14 días posteriores a la inscripción.\n"
   ]
  },
  {
   "cell_type": "markdown",
   "metadata": {},
   "source": [
    "<div class=\"alert alert-block alert-success\">\n",
    "\n",
    "<b>Comentario del revisor</b> <a class=\"tocSkip\"></a>\n",
    "\n",
    "\n",
    "Arnold, excelente trabajo agregando una introducción al proyecto donde se especifiquen claramente los objetivos y se explique el propósito del mismo. Es esencial hacer esto para establecer las bases del proyecto y aclarar lo que buscamos alcanzar. Con la introducción, queda de manera clarar el análisis que desarrollaremos en el proyecto y cómo lo pretendemos abordar.</div>"
   ]
  },
  {
   "cell_type": "code",
   "execution_count": 12,
   "metadata": {
    "scrolled": true
   },
   "outputs": [
    {
     "name": "stdout",
     "output_type": "stream",
     "text": [
      "Marketing events\n",
      "<class 'pandas.core.frame.DataFrame'>\n",
      "RangeIndex: 14 entries, 0 to 13\n",
      "Data columns (total 4 columns):\n",
      " #   Column     Non-Null Count  Dtype         \n",
      "---  ------     --------------  -----         \n",
      " 0   name       14 non-null     object        \n",
      " 1   regions    14 non-null     object        \n",
      " 2   start_dt   14 non-null     datetime64[ns]\n",
      " 3   finish_dt  14 non-null     datetime64[ns]\n",
      "dtypes: datetime64[ns](2), object(2)\n",
      "memory usage: 576.0+ bytes\n",
      "None \n",
      "\n",
      "New users\n",
      "<class 'pandas.core.frame.DataFrame'>\n",
      "RangeIndex: 58703 entries, 0 to 58702\n",
      "Data columns (total 4 columns):\n",
      " #   Column      Non-Null Count  Dtype         \n",
      "---  ------      --------------  -----         \n",
      " 0   user_id     58703 non-null  object        \n",
      " 1   first_date  58703 non-null  datetime64[ns]\n",
      " 2   region      58703 non-null  object        \n",
      " 3   device      58703 non-null  object        \n",
      "dtypes: datetime64[ns](1), object(3)\n",
      "memory usage: 1.8+ MB\n",
      "None \n",
      "\n",
      "User events\n",
      "<class 'pandas.core.frame.DataFrame'>\n",
      "RangeIndex: 423761 entries, 0 to 423760\n",
      "Data columns (total 4 columns):\n",
      " #   Column      Non-Null Count   Dtype         \n",
      "---  ------      --------------   -----         \n",
      " 0   user_id     423761 non-null  object        \n",
      " 1   event_dt    423761 non-null  datetime64[ns]\n",
      " 2   event_name  423761 non-null  object        \n",
      " 3   details     60314 non-null   float64       \n",
      "dtypes: datetime64[ns](1), float64(1), object(2)\n",
      "memory usage: 12.9+ MB\n",
      "None \n",
      "\n",
      "Participants\n",
      "<class 'pandas.core.frame.DataFrame'>\n",
      "RangeIndex: 14525 entries, 0 to 14524\n",
      "Data columns (total 3 columns):\n",
      " #   Column   Non-Null Count  Dtype \n",
      "---  ------   --------------  ----- \n",
      " 0   user_id  14525 non-null  object\n",
      " 1   group    14525 non-null  object\n",
      " 2   ab_test  14525 non-null  object\n",
      "dtypes: object(3)\n",
      "memory usage: 340.6+ KB\n",
      "None \n",
      "\n",
      "Valores ausentes:\n",
      "Marketing events:\n",
      " name         0\n",
      "regions      0\n",
      "start_dt     0\n",
      "finish_dt    0\n",
      "dtype: int64\n",
      "New users:\n",
      " user_id       0\n",
      "first_date    0\n",
      "region        0\n",
      "device        0\n",
      "dtype: int64\n",
      "User events:\n",
      " user_id            0\n",
      "event_dt           0\n",
      "event_name         0\n",
      "details       363447\n",
      "dtype: int64\n",
      "Participants:\n",
      " user_id    0\n",
      "group      0\n",
      "ab_test    0\n",
      "dtype: int64 \n",
      "\n",
      "Duplicados:\n",
      "Marketing events: 0\n",
      "New users: 0\n",
      "User events: 0\n",
      "Participants: 0 \n",
      "\n",
      "Usuarios en ambos grupos: 441\n"
     ]
    }
   ],
   "source": [
    "\n",
    "\n",
    "import pandas as pd\n",
    "\n",
    "# --- Cargar datasets ---\n",
    "events = pd.read_csv('/datasets/ab_project_marketing_events_us.csv')\n",
    "new_users = pd.read_csv('/datasets/final_ab_new_users_upd_us.csv')\n",
    "user_events = pd.read_csv('/datasets/final_ab_events_upd_us.csv')\n",
    "participants = pd.read_csv('/datasets/final_ab_participants_upd_us.csv')\n",
    "\n",
    "# --- Conversión de fechas ---\n",
    "events['start_dt'] = pd.to_datetime(events['start_dt'])\n",
    "events['finish_dt'] = pd.to_datetime(events['finish_dt'])\n",
    "\n",
    "new_users['first_date'] = pd.to_datetime(new_users['first_date'])\n",
    "user_events['event_dt'] = pd.to_datetime(user_events['event_dt'])\n",
    "\n",
    "# --- Revisión de tipos y estructura ---\n",
    "print(\"Marketing events\")\n",
    "print(events.info(), \"\\n\")\n",
    "\n",
    "print(\"New users\")\n",
    "print(new_users.info(), \"\\n\")\n",
    "\n",
    "print(\"User events\")\n",
    "print(user_events.info(), \"\\n\")\n",
    "\n",
    "print(\"Participants\")\n",
    "print(participants.info(), \"\\n\")\n",
    "\n",
    "# --- Valores ausentes ---\n",
    "print(\"Valores ausentes:\")\n",
    "print(\"Marketing events:\\n\", events.isna().sum())\n",
    "print(\"New users:\\n\", new_users.isna().sum())\n",
    "print(\"User events:\\n\", user_events.isna().sum())\n",
    "print(\"Participants:\\n\", participants.isna().sum(), \"\\n\")\n",
    "\n",
    "# --- Duplicados ---\n",
    "print(\"Duplicados:\")\n",
    "print(\"Marketing events:\", events.duplicated().sum())\n",
    "print(\"New users:\", new_users.duplicated().sum())\n",
    "print(\"User events:\", user_events.duplicated().sum())\n",
    "print(\"Participants:\", participants.duplicated().sum(), \"\\n\")\n",
    "\n",
    "# --- Revisión especial: usuarios en ambos grupos ---\n",
    "users_in_both_groups = participants.groupby('user_id')['group'].nunique()\n",
    "users_in_both_groups = users_in_both_groups[users_in_both_groups > 1]\n",
    "print(f\"Usuarios en ambos grupos: {len(users_in_both_groups)}\")\n",
    "\n",
    "\n"
   ]
  },
  {
   "cell_type": "markdown",
   "metadata": {},
   "source": [
    "<div class=\"alert alert-block alert-success\">\n",
    "<b>Comentario del revisor:</b> <a class=\"tocSkip\"></a>\n",
    "    \n",
    "Muy buen trabajo con el uso de info(), como sabes nos ayuda a visualziar la información general de las bases de datos con las que vamos a trabajar\n",
    "\n",
    "</div>"
   ]
  },
  {
   "cell_type": "markdown",
   "metadata": {},
   "source": [
    "**Exploración de los datos**\n",
    "\n",
    "**Tipos de datos**\n",
    "\n",
    "Todas las columnas con fechas **(start_dt, finish_dt, first_date, event_dt)** ya están en formato datetime64[ns].\n",
    "\n",
    "Los identificadores **(user_id, ab_test, group)** y variables categóricas (region, device, event_name) están como object.\n",
    "No es necesario convertir tipos.\n",
    "\n",
    "**Valores ausentes**\n",
    "\n",
    "No hay ausentes en marketing_events, new_users ni participants.\n",
    "\n",
    "En user_events, la columna details tiene 363,447 valores ausentes (~85%). Esto se debe a que no todos los eventos requieren información adicional (ej. en purchase aparece el revenue, pero en product_page no).\n",
    "Los ausentes en details no son un error, sino que dependen del tipo de evento.\n",
    "\n",
    "**Duplicados**\n",
    "\n",
    "Ningún dataset presenta filas duplicadas.\n",
    "\n",
    "Usuarios en ambos grupos\n",
    "\n",
    "Se identificaron 441 usuarios asignados a ambos grupos.\n",
    "Este es un problema de calidad de datos que puede sesgar el análisis. Lo más recomendable es eliminarlos del estudio para garantizar que cada usuario pertenezca a un solo grupo."
   ]
  },
  {
   "cell_type": "code",
   "execution_count": 13,
   "metadata": {},
   "outputs": [
    {
     "name": "stdout",
     "output_type": "stream",
     "text": [
      "Usuarios únicos después de filtros: 3481\n",
      "Eventos después de filtros: 21952\n",
      "Rango de fechas finales: 2020-12-07 00:05:57 a 2020-12-29 23:38:29\n"
     ]
    }
   ],
   "source": [
    "\n",
    "# --- FILTROS INICIALES ---\n",
    "\n",
    "# 1. Filtrar eventos de marketing a la región \"EU\"\n",
    "events_eu = events.query(\"regions == 'EU'\")\n",
    "\n",
    "# 2. Verificar fechas de aplicación (entre 2020-12-07 y 2021-01-01)\n",
    "user_events = user_events[\n",
    "    (user_events['event_dt'] >= '2020-12-07') &\n",
    "    (user_events['event_dt'] <= '2021-01-01')\n",
    "]\n",
    "\n",
    "# 3. Filtrar usuarios inscritos en el rango válido (7 al 21 dic 2020)\n",
    "new_users = new_users[\n",
    "    (new_users['first_date'] >= '2020-12-07') &\n",
    "    (new_users['first_date'] <= '2020-12-21')\n",
    "]\n",
    "\n",
    "# 4. Quedarnos solo con usuarios de la región \"EU\"\n",
    "new_users = new_users.query(\"region == 'EU'\")\n",
    "\n",
    "# 5. Filtrar participantes solo de este experimento\n",
    "participants = participants.query(\"ab_test == 'recommender_system_test'\")\n",
    "\n",
    "# 6. Eliminar usuarios que aparecen en ambos grupos\n",
    "users_in_both_groups = participants.groupby('user_id')['group'].nunique()\n",
    "users_in_both_groups = users_in_both_groups[users_in_both_groups > 1].index\n",
    "participants = participants[~participants['user_id'].isin(users_in_both_groups)]\n",
    "\n",
    "# 7. Mantener solo eventos de usuarios que pertenecen al experimento\n",
    "user_events = user_events[user_events['user_id'].isin(participants['user_id'])]\n",
    "\n",
    "# 8. Mantener solo los primeros 14 días desde el registro de cada usuario\n",
    "new_users['last_valid_date'] = new_users['first_date'] + pd.Timedelta(days=14)\n",
    "user_events = user_events.merge(new_users[['user_id','first_date','last_valid_date']], on='user_id', how='inner')\n",
    "user_events = user_events[\n",
    "    (user_events['event_dt'] >= user_events['first_date']) &\n",
    "    (user_events['event_dt'] <= user_events['last_valid_date'])\n",
    "]\n",
    "\n",
    "# --- Verificación ---\n",
    "print(\"Usuarios únicos después de filtros:\", user_events['user_id'].nunique())\n",
    "print(\"Eventos después de filtros:\", len(user_events))\n",
    "print(\"Rango de fechas finales:\", user_events['event_dt'].min(), \"a\", user_events['event_dt'].max())\n",
    "\n"
   ]
  },
  {
   "cell_type": "markdown",
   "metadata": {},
   "source": [
    "**Lleva a cabo el análisis exploratorio de datos:**\n",
    "Estudiemos la conversión en las diferentes etapas del embudo."
   ]
  },
  {
   "cell_type": "code",
   "execution_count": 15,
   "metadata": {},
   "outputs": [
    {
     "name": "stdout",
     "output_type": "stream",
     "text": [
      "Usuarios eliminados por estar en ambos grupos: 0\n",
      "Columnas en events_ab: ['user_id', 'event_dt', 'event_name', 'details', 'first_date', 'last_valid_date', 'group']\n",
      "\n",
      "# Total de eventos por tipo\n",
      "login           9919\n",
      "product_page    6132\n",
      "purchase        2998\n",
      "product_cart    2903\n",
      "Name: event_name, dtype: int64\n",
      "\n",
      "# Usuarios únicos por etapa\n",
      "event_name\n",
      "login           3480\n",
      "product_page    2178\n",
      "purchase        1082\n",
      "product_cart    1026\n",
      "Name: user_id, dtype: int64\n",
      "\n",
      "# Embudo - Conteos únicos de usuarios por grupo\n",
      "event_name  product_page  product_cart  purchase\n",
      "group                                           \n",
      "A                   1685           782       833\n",
      "B                    493           244       249\n",
      "\n",
      "# Embudo - Tasas por grupo (relativas a product_page)\n",
      "event_name product_page product_cart purchase\n",
      "group                                        \n",
      "A                100.0%       46.41%   49.44%\n",
      "B                100.0%       49.49%   50.51%\n"
     ]
    }
   ],
   "source": [
    "# --- 1) Eliminar usuarios que aparecieron en ambos grupos (crítico) ---\n",
    "dupes = participants.groupby('user_id')['group'].nunique()\n",
    "dupes_users = dupes[dupes > 1].index\n",
    "\n",
    "participants_clean = participants[~participants['user_id'].isin(dupes_users)].copy()\n",
    "\n",
    "print(f\"Usuarios eliminados por estar en ambos grupos: {len(dupes_users)}\")\n",
    "\n",
    "# --- 2) Construir dataset analítico de eventos: log + grupo A/B ---\n",
    "events_ab = user_events.merge(\n",
    "    participants_clean[['user_id', 'group']],\n",
    "    on='user_id',\n",
    "    how='inner'\n",
    ")\n",
    "\n",
    "# Chequeo rápido de columnas disponibles\n",
    "print(\"Columnas en events_ab:\", list(events_ab.columns))\n",
    "\n",
    "# --- 3) Totales y usuarios únicos por tipo de evento ---\n",
    "print(\"\\n# Total de eventos por tipo\")\n",
    "print(events_ab['event_name'].value_counts())\n",
    "\n",
    "print(\"\\n# Usuarios únicos por etapa\")\n",
    "print(events_ab.groupby('event_name')['user_id'].nunique().sort_values(ascending=False))\n",
    "\n",
    "# --- 4) Embudo por grupo A/B (conteos únicos de usuarios por etapa) ---\n",
    "stages = ['product_page', 'product_cart', 'purchase']\n",
    "\n",
    "funnel_counts = (\n",
    "    events_ab\n",
    "    .query(\"event_name in @stages\")\n",
    "    .drop_duplicates(['user_id', 'group', 'event_name'])  # cada usuario cuenta 1 vez por etapa\n",
    "    .groupby(['group', 'event_name'])['user_id']\n",
    "    .nunique()\n",
    "    .unstack(fill_value=0)\n",
    "    .reindex(columns=stages, fill_value=0)  # ordenar columnas del embudo\n",
    ")\n",
    "\n",
    "# Tasas de conversión por grupo (etapa/ product_page)\n",
    "funnel_rates = funnel_counts.div(funnel_counts['product_page'].replace(0, pd.NA), axis=0)\n",
    "\n",
    "print(\"\\n# Embudo - Conteos únicos de usuarios por grupo\")\n",
    "print(funnel_counts)\n",
    "\n",
    "print(\"\\n# Embudo - Tasas por grupo (relativas a product_page)\")\n",
    "print((funnel_rates * 100).round(2).astype(str) + '%')\n",
    "\n"
   ]
  },
  {
   "cell_type": "markdown",
   "metadata": {},
   "source": [
    "<div class=\"alert alert-block alert-danger\">\n",
    "    <b>Comentario del revisor:</b> <a class=\"tocSkip\"></a>\n",
    "    \n",
    "Arnold, excelente trabajo, solamente antes de proceder con el análisi te recomiendo realizar los siguientes filtros que nos mencionan en el proyecto:\n",
    "    \n",
    "    - Agregar un filtro de los eventos de marketing aplicables a la region \"UE\", dado que con base en el ejercicio son los eventos de análisis.\n",
    "    - verificar que las fechas de aplicación corresponden con lo que indica el ejercicio (fechas entre 2020-12-07 y 2021-01-01)\n",
    "    - Filtrar los eventos relevante para el análisis\n",
    "    - Verificar que consideramos los primeros 14 días desde que se registraron los usuarios\n",
    "</div>"
   ]
  },
  {
   "cell_type": "markdown",
   "metadata": {},
   "source": [
    "<div class=\"alert alert-block alert-success\">\n",
    "<b>Comentario del revisor</b> <a class=\"tocSkip\"></a>\n",
    "\n",
    "Gran trabajo con el ajuste!"
   ]
  },
  {
   "cell_type": "markdown",
   "metadata": {},
   "source": [
    "**¿El número de eventos por usuario está distribuido equitativamente entre las muestras?**\n"
   ]
  },
  {
   "cell_type": "code",
   "execution_count": 16,
   "metadata": {},
   "outputs": [
    {
     "name": "stdout",
     "output_type": "stream",
     "text": [
      "        count      mean       std  min  25%  50%  75%   max\n",
      "group                                                      \n",
      "A      2604.0  6.619432  3.667608  1.0  4.0  6.0  9.0  24.0\n",
      "B       877.0  5.376283  3.228340  1.0  3.0  4.0  7.0  24.0\n"
     ]
    },
    {
     "data": {
      "image/png": "[encoded data removed]",
      "text/plain": [
       "<Figure size 1000x500 with 1 Axes>"
      ]
     },
     "metadata": {},
     "output_type": "display_data"
    }
   ],
   "source": [
    "\n",
    "# Eventos por usuario en cada grupo\n",
    "events_per_user = (\n",
    "    events_ab\n",
    "    .groupby(['group', 'user_id'])['event_name']\n",
    "    .count()\n",
    "    .reset_index(name='event_count')\n",
    ")\n",
    "\n",
    "# Estadísticos descriptivos\n",
    "print(events_per_user.groupby('group')['event_count'].describe())\n",
    "\n",
    "# Distribución gráfica\n",
    "import matplotlib.pyplot as plt\n",
    "import seaborn as sns\n",
    "\n",
    "plt.figure(figsize=(10,5))\n",
    "sns.histplot(data=events_per_user, x='event_count', hue='group', bins=30, kde=True)\n",
    "plt.title(\"Distribución de número de eventos por usuario en A vs B\")\n",
    "plt.show()\n",
    "\n"
   ]
  },
  {
   "cell_type": "markdown",
   "metadata": {},
   "source": [
    "Los eventos por usuario no están distribuidos de forma equitativa entre los grupos: los usuarios del grupo A son más activos en promedio (6.6 vs 5.4 eventos) y muestran mayor variabilidad. Esto podría influir en los resultados del test A/B y debe tenerse en cuenta al interpretar las conversiones."
   ]
  },
  {
   "cell_type": "markdown",
   "metadata": {},
   "source": [
    "**¿Cómo se distribuye el número de eventos entre los días?**"
   ]
  },
  {
   "cell_type": "code",
   "execution_count": 17,
   "metadata": {},
   "outputs": [
    {
     "name": "stdout",
     "output_type": "stream",
     "text": [
      "date\n",
      "2020-12-07     674\n",
      "2020-12-08     551\n",
      "2020-12-09     709\n",
      "2020-12-10     580\n",
      "2020-12-11     517\n",
      "2020-12-12     545\n",
      "2020-12-13     472\n",
      "2020-12-14    1263\n",
      "2020-12-15    1252\n",
      "2020-12-16    1376\n",
      "2020-12-17    1481\n",
      "2020-12-18    1503\n",
      "2020-12-19    1718\n",
      "2020-12-20    1743\n",
      "2020-12-21    2265\n",
      "2020-12-22    1377\n",
      "2020-12-23    1086\n",
      "2020-12-24     919\n",
      "2020-12-26     601\n",
      "2020-12-27     571\n",
      "2020-12-28     442\n",
      "2020-12-29     307\n",
      "dtype: int64\n"
     ]
    },
    {
     "data": {
      "image/png": "[encoded data removed]",
      "text/plain": [
       "<Figure size 1200x500 with 1 Axes>"
      ]
     },
     "metadata": {},
     "output_type": "display_data"
    }
   ],
   "source": [
    "\n",
    "import matplotlib.pyplot as plt\n",
    "\n",
    "# --- Agrupar por fecha (ignorar horas) ---\n",
    "events_by_day = (\n",
    "    user_events\n",
    "    .assign(date=user_events['event_dt'].dt.date)\n",
    "    .groupby('date')\n",
    "    .size()\n",
    ")\n",
    "\n",
    "print(events_by_day)\n",
    "\n",
    "# --- Gráfico ---\n",
    "plt.figure(figsize=(12,5))\n",
    "events_by_day.plot(kind='bar')\n",
    "plt.title(\"Distribución de eventos por día\")\n",
    "plt.xlabel(\"Fecha\")\n",
    "plt.ylabel(\"Número de eventos\")\n",
    "plt.xticks(rotation=45)\n",
    "plt.show()\n",
    "\n"
   ]
  },
  {
   "cell_type": "markdown",
   "metadata": {},
   "source": [
    "la actividad de los usuarios no estuvo distribuida de manera uniforme entre los días; se concentró principalmente entre el 14 y el 21 de diciembre, justo antes del cierre del periodo de inscripción, y luego disminuyó gradualmente."
   ]
  },
  {
   "cell_type": "markdown",
   "metadata": {},
   "source": [
    "**¿Hay usuarios que están presentes en ambas muestras?**\n"
   ]
  },
  {
   "cell_type": "code",
   "execution_count": 18,
   "metadata": {},
   "outputs": [
    {
     "name": "stdout",
     "output_type": "stream",
     "text": [
      "A    2747\n",
      "B     928\n",
      "Name: group, dtype: int64\n",
      "Número de usuarios en ambos grupos: 0\n",
      "Ejemplo de IDs en ambos grupos: []\n"
     ]
    }
   ],
   "source": [
    "\n",
    "\n",
    "\n",
    "# Revisar distribución de usuarios por grupo\n",
    "print(participants['group'].value_counts())\n",
    "\n",
    "# Usuarios por grupo\n",
    "users_a = set(participants.query(\"group == 'A'\")['user_id'])\n",
    "users_b = set(participants.query(\"group == 'B'\")['user_id'])\n",
    "\n",
    "# Intersección (usuarios presentes en ambos grupos)\n",
    "overlap_users = users_a.intersection(users_b)\n",
    "\n",
    "print(f\"Número de usuarios en ambos grupos: {len(overlap_users)}\")\n",
    "\n",
    "# Opcional: mostrar los primeros\n",
    "print(\"Ejemplo de IDs en ambos grupos:\", list(overlap_users)[:10])\n",
    "\n",
    "\n"
   ]
  },
  {
   "cell_type": "code",
   "execution_count": 19,
   "metadata": {},
   "outputs": [
    {
     "name": "stdout",
     "output_type": "stream",
     "text": [
      "Usuarios en ambos grupos: 0\n",
      "Usuarios en grupo A (limpios): 2747\n",
      "Usuarios en grupo B (limpios): 928\n"
     ]
    }
   ],
   "source": [
    "\n",
    "# Identificar usuarios que aparecen en ambos grupos\n",
    "duplicados = participants.groupby('user_id')['group'].nunique()\n",
    "usuarios_en_ambos = duplicados[duplicados > 1].index\n",
    "\n",
    "print(\"Usuarios en ambos grupos:\", len(usuarios_en_ambos))\n",
    "\n",
    "# Filtrar los participantes que NO están en ambos grupos\n",
    "participants_clean = participants[~participants['user_id'].isin(usuarios_en_ambos)]\n",
    "\n",
    "print(\"Usuarios en grupo A (limpios):\", participants_clean.query(\"group == 'A'\")['user_id'].nunique())\n",
    "print(\"Usuarios en grupo B (limpios):\", participants_clean.query(\"group == 'B'\")['user_id'].nunique())\n"
   ]
  },
  {
   "cell_type": "code",
   "execution_count": 20,
   "metadata": {},
   "outputs": [
    {
     "name": "stdout",
     "output_type": "stream",
     "text": [
      "Eventos totales (originales): 423761\n",
      "Eventos después de limpieza: 23909\n",
      "Usuarios únicos después de limpieza: 3675\n"
     ]
    }
   ],
   "source": [
    "\n",
    "# Cargar eventos\n",
    "events = pd.read_csv('/datasets/final_ab_events_upd_us.csv')\n",
    "\n",
    "\n",
    "# Filtrar solo usuarios limpios\n",
    "usuarios_validos = participants_clean['user_id'].unique()\n",
    "events_clean = events[events['user_id'].isin(usuarios_validos)]\n",
    "\n",
    "print(\"Eventos totales (originales):\", len(events))\n",
    "print(\"Eventos después de limpieza:\", len(events_clean))\n",
    "print(\"Usuarios únicos después de limpieza:\", events_clean['user_id'].nunique())\n"
   ]
  },
  {
   "cell_type": "markdown",
   "metadata": {},
   "source": [
    "**Peculiaridades antes de la prueba A/B**\n",
    "\n",
    "Antes de correr la prueba A/B, ten en cuenta que los grupos no son del mismo tamaño ni tienen la misma intensidad de actividad. Además, el aumento de tráfico en la mitad del periodo puede influir en los resultados. Todo esto debe considerarse al momento de interpretar las diferencias en conversión: si ves diferencias pequeñas, podrían deberse al desbalance o a la estacionalidad y no al cambio en el embudo."
   ]
  },
  {
   "cell_type": "markdown",
   "metadata": {},
   "source": [
    "**¿Qué puedes decir sobre los resultados de la prueba A/B?**"
   ]
  },
  {
   "cell_type": "markdown",
   "metadata": {},
   "source": [
    "Los datos muestran que el grupo de prueba (B) no tiene suficiente tamaño muestral en comparación con el grupo control (A), lo que limita la validez del experimento. Además, tras la limpieza, la diferencia de volumen de eventos entre grupos puede sesgar los resultados. Por lo tanto, no es posible afirmar con certeza que el nuevo sistema de recomendaciones tenga un impacto positivo en la conversión con los datos disponibles."
   ]
  },
  {
   "cell_type": "markdown",
   "metadata": {},
   "source": [
    "**Utiliza una prueba z para comprobar la diferencia estadística entre las proporciones.**\n"
   ]
  },
  {
   "cell_type": "code",
   "execution_count": 22,
   "metadata": {},
   "outputs": [
    {
     "name": "stdout",
     "output_type": "stream",
     "text": [
      "Tasas de conversión por grupo en cada etapa (%):\n",
      "\n",
      "group             A      B\n",
      "product_page  64.80  56.36\n",
      "product_cart  30.00  27.48\n",
      "purchase      31.74  27.59\n",
      "\n",
      "Resultados prueba Z por etapa:\n",
      "          Etapa   Z-score   p-valor\n",
      "0  product_page  4.595797  0.000004\n",
      "1  product_cart  1.456161  0.145348\n",
      "2      purchase  2.374087  0.017592\n",
      "\n",
      "Conclusión:\n",
      "Se detectan diferencias estadísticamente significativas en alguna etapa del embudo.\n"
     ]
    }
   ],
   "source": [
    "# Asegurarnos de que los eventos tengan la info del grupo\n",
    "df = events_clean.merge(participants_clean[['user_id','group']], on='user_id', how='inner')\n",
    "\n",
    "# --- Definir embudo ---\n",
    "funnel = ['product_page', 'product_cart', 'purchase']\n",
    "\n",
    "# Diccionario para guardar tasas de conversión\n",
    "conversion = {}\n",
    "\n",
    "# Calcular conversiones por grupo\n",
    "for step in funnel:\n",
    "    conv = df.query(\"event_name == @step\").groupby('group')['user_id'].nunique()\n",
    "    total = participants_clean.groupby('group')['user_id'].nunique()\n",
    "    conversion[step] = conv / total\n",
    "\n",
    "# Mostrar conversiones en tabla\n",
    "conversion_df = pd.DataFrame(conversion).T\n",
    "print(\"Tasas de conversión por grupo en cada etapa (%):\\n\")\n",
    "print((conversion_df * 100).round(2))\n",
    "\n",
    "# --- Prueba Z ---\n",
    "print(\"\\nResultados prueba Z por etapa:\")\n",
    "ztest_results = []\n",
    "for step in funnel:\n",
    "    conv = df.query(\"event_name == @step\").groupby('group')['user_id'].nunique()\n",
    "    total = participants_clean.groupby('group')['user_id'].nunique()\n",
    "    \n",
    "    count = [conv['A'], conv['B']]\n",
    "    nobs = [total['A'], total['B']]\n",
    "    \n",
    "    stat, pval = proportions_ztest(count, nobs)\n",
    "    ztest_results.append([step, stat, pval])\n",
    "\n",
    "results_df = pd.DataFrame(ztest_results, columns=[\"Etapa\", \"Z-score\", \"p-valor\"])\n",
    "print(results_df)\n",
    "\n",
    "# --- Conclusión ---\n",
    "print(\"\\nConclusión:\")\n",
    "if (results_df[\"p-valor\"] < 0.05).any():\n",
    "    print(\"Se detectan diferencias estadísticamente significativas en alguna etapa del embudo.\")\n",
    "else:\n",
    "    print(\"No hay diferencias estadísticamente significativas entre A y B en ninguna etapa del embudo.\")\n",
    "\n",
    "\n"
   ]
  },
  {
   "cell_type": "markdown",
   "metadata": {},
   "source": [
    "<div class=\"alert alert-block alert-warning\">\n",
    "<b>Comentario Revisor</b> <a class=\"tocSkip\"></a>\n",
    "\n",
    "Muy buen trabajo con el calculo de la z-score y con el desarrollo de la prueba de hipótesis. Solamente te recomendaría agregar una interpretación al z-score obtenido y al resultado del valor p de la prueba de hipótesis.\n",
    "</div>"
   ]
  },
  {
   "cell_type": "markdown",
   "metadata": {},
   "source": [
    "Interpretación\n",
    "\n",
    "El grupo A (control) tuvo mejores tasas tanto en visitas a página de producto como en compras.\n",
    "\n",
    "El grupo B (con el nuevo sistema de recomendación) no solo no mejoró la conversión, sino que muestra un descenso significativo en dos etapas críticas (product_page y purchase).\n",
    "\n",
    "Estadísticamente, la hipótesis esperada (+10% de mejora con el nuevo sistema) no se cumple."
   ]
  },
  {
   "cell_type": "markdown",
   "metadata": {},
   "source": [
    "**Describe tus conclusiones con respecto a la etapa EDA y los resultados de la prueba A/B.**"
   ]
  },
  {
   "cell_type": "markdown",
   "metadata": {},
   "source": [
    "**Conclusiones de la EDA**\n",
    "\n",
    "Usuarios válidos tras filtros: se conservaron ~3,481 usuarios y ~21,952 eventos, lo que asegura una base consistente y depurada.\n",
    "\n",
    "Distribución de eventos: la mayoría fueron login y product_page, con menos usuarios llegando a purchase, lo que confirma la forma de embudo.\n",
    "\n",
    "**Embudo global:**\n",
    "\n",
    "~62% de los usuarios visitan la página de producto.\n",
    "\n",
    "~29% añaden al carrito.\n",
    "\n",
    "~31% finalizan la compra.\n",
    "\n",
    "**Balance de grupos:**\n",
    "\n",
    "El grupo A tiene más usuarios que el grupo B, pero ambos muestran un comportamiento relativamente similar en cuanto al número de eventos por usuario.\n",
    "\n",
    "No hay usuarios duplicados en ambos grupos.\n",
    "\n",
    "Distribución temporal: se observa mayor actividad entre el 14 y el 21 de diciembre, lo que coincide con el pico de inscripciones.\n",
    "\n",
    "**Conclusiones de la prueba A/B**\n",
    "\n",
    "**Tasas de conversión:**\n",
    "\n",
    "product_page: A (64.8%) > B (56.4%)\n",
    "\n",
    "product_cart: A (30.0%) ~ B (27.5%)\n",
    "\n",
    "purchase: A (31.7%) > B (27.6%)\n",
    "\n",
    "**Prueba Z:**\n",
    "\n",
    "product_page: diferencia significativa (p < 0.001).\n",
    "\n",
    "product_cart: diferencia no significativa (p = 0.145).\n",
    "\n",
    "purchase: diferencia significativa (p = 0.018).\n",
    "\n",
    "**Interpretación:**\n",
    "\n",
    "El nuevo sistema de recomendaciones (grupo B) no cumple con la hipótesis de aumentar la conversión en +10%.\n",
    "\n",
    "Por el contrario, reduce de forma significativa la conversión en etapas críticas (product_page y purchase).\n"
   ]
  },
  {
   "cell_type": "code",
   "execution_count": null,
   "metadata": {},
   "outputs": [],
   "source": []
  }
 ],
 "metadata": {
  "kernelspec": {
   "display_name": "Python 3 (ipykernel)",
   "language": "python",
   "name": "python3"
  },
  "language_info": {
   "codemirror_mode": {
    "name": "ipython",
    "version": 3
   },
   "file_extension": ".py",
   "mimetype": "text/x-python",
   "name": "python",
   "nbconvert_exporter": "python",
   "pygments_lexer": "ipython3",
   "version": "3.9.23"
  }
 },
 "nbformat": 4,
 "nbformat_minor": 4
}
